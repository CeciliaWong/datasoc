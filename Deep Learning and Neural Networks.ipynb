{
 "cells": [
  {
   "cell_type": "code",
   "execution_count": 276,
   "metadata": {},
   "outputs": [],
   "source": [
    "from numpy import *\n",
    "from numpy.linalg import *\n",
    "import matplotlib.pyplot as plt\n",
    "%matplotlib inline"
   ]
  },
  {
   "cell_type": "code",
   "execution_count": 277,
   "metadata": {},
   "outputs": [
    {
     "data": {
      "text/plain": [
       "matrix([[ 4,  1],\n",
       "        [ 8,  2],\n",
       "        [ 9,  7],\n",
       "        [ 1,  5],\n",
       "        [ 3,  6],\n",
       "        [ 2, 10]])"
      ]
     },
     "execution_count": 277,
     "metadata": {},
     "output_type": "execute_result"
    }
   ],
   "source": [
    "x = matrix([[4,8,9,1,3,2],\n",
    "               [1,2,7,5,6,10]]).T\n",
    "x"
   ]
  },
  {
   "cell_type": "code",
   "execution_count": 278,
   "metadata": {},
   "outputs": [
    {
     "data": {
      "text/plain": [
       "matrix([[0],\n",
       "        [0],\n",
       "        [0],\n",
       "        [1],\n",
       "        [1],\n",
       "        [1]])"
      ]
     },
     "execution_count": 278,
     "metadata": {},
     "output_type": "execute_result"
    }
   ],
   "source": [
    "y = matrix([0,0,0,1,1,1]).T\n",
    "y"
   ]
  },
  {
   "cell_type": "code",
   "execution_count": 279,
   "metadata": {},
   "outputs": [
    {
     "data": {
      "text/plain": [
       "matrix([[ 0.1],\n",
       "        [ 0.1]])"
      ]
     },
     "execution_count": 279,
     "metadata": {},
     "output_type": "execute_result"
    }
   ],
   "source": [
    "theta = matrix([0.1,0.1]).T\n",
    "theta"
   ]
  },
  {
   "cell_type": "code",
   "execution_count": 280,
   "metadata": {},
   "outputs": [
    {
     "data": {
      "text/plain": [
       "matrix([[ 0.62245933],\n",
       "        [ 0.73105858],\n",
       "        [ 0.83201839],\n",
       "        [ 0.64565631],\n",
       "        [ 0.7109495 ],\n",
       "        [ 0.76852478]])"
      ]
     },
     "execution_count": 280,
     "metadata": {},
     "output_type": "execute_result"
    }
   ],
   "source": [
    "learning_rate = 0.005\n",
    "\n",
    "y_hat = 1/(1+exp(-(x*theta)))\n",
    "y_hat"
   ]
  },
  {
   "cell_type": "code",
   "execution_count": 281,
   "metadata": {},
   "outputs": [
    {
     "data": {
      "text/plain": [
       "matrix([[ 0.58512101],\n",
       "        [ 0.14628025]])"
      ]
     },
     "execution_count": 281,
     "metadata": {},
     "output_type": "execute_result"
    }
   ],
   "source": [
    "gradient, y_hat = (x[0].T*y_hat[0]**2*exp(-x[0]*theta)*(y_hat[0]-y[0]),\n",
    "                  1/(1+exp(-(x*theta))))\n",
    "gradient"
   ]
  },
  {
   "cell_type": "code",
   "execution_count": 282,
   "metadata": {},
   "outputs": [],
   "source": [
    "cost = []\n",
    "for epoch in range(1000):\n",
    "    i = 0\n",
    "    for (x_i, y_i) in zip(x, y):\n",
    "        y_hat_i = y_hat[i]\n",
    "        gradient, y_hat, theta = (  x_i.T*y_hat_i**2*exp(-x_i*theta)*(y_hat_i-y_i),\n",
    "                                    1/(1+exp(-(x*theta))),\n",
    "                                    theta-learning_rate*gradient)\n",
    "        i+=1\n",
    "    cost.append(sum(square(y_hat-y)))"
   ]
  },
  {
   "cell_type": "code",
   "execution_count": 283,
   "metadata": {},
   "outputs": [
    {
     "data": {
      "text/plain": [
       "[<matplotlib.lines.Line2D at 0x7f735c078828>]"
      ]
     },
     "execution_count": 283,
     "metadata": {},
     "output_type": "execute_result"
    },
    {
     "data": {
      "image/png": "[encoded data removed]",
      "text/plain": [
       "<matplotlib.figure.Figure at 0x7f735c153748>"
      ]
     },
     "metadata": {},
     "output_type": "display_data"
    }
   ],
   "source": [
    "plt.plot(cost)"
   ]
  },
  {
   "cell_type": "code",
   "execution_count": 284,
   "metadata": {},
   "outputs": [
    {
     "name": "stdout",
     "output_type": "stream",
     "text": [
      "[[ 0.06964047]\n",
      " [ 0.0055718 ]\n",
      " [ 0.09007842]\n",
      " [ 0.94643329]\n",
      " [ 0.87502825]\n",
      " [ 0.99680684]]\n"
     ]
    }
   ],
   "source": [
    "print(y_hat)"
   ]
  },
  {
   "cell_type": "code",
   "execution_count": 285,
   "metadata": {},
   "outputs": [
    {
     "data": {
      "text/plain": [
       "matrix([[-0.83310566],\n",
       "        [ 0.74142626]])"
      ]
     },
     "execution_count": 285,
     "metadata": {},
     "output_type": "execute_result"
    }
   ],
   "source": [
    "theta"
   ]
  },
  {
   "cell_type": "code",
   "execution_count": 286,
   "metadata": {},
   "outputs": [
    {
     "name": "stdout",
     "output_type": "stream",
     "text": [
      "[[ 0.38736617]]\n",
      "[[ 0.00024086]]\n",
      "[[ 0.99939777]]\n"
     ]
    }
   ],
   "source": [
    "print(1/(1+exp(-([5,5]*theta))))\n",
    "print(1/(1+exp(-([10,0]*theta))))\n",
    "print(1/(1+exp(-([0,10]*theta))))"
   ]
  }
 ],
 "metadata": {
  "kernelspec": {
   "display_name": "Python 3",
   "language": "python",
   "name": "python3"
  },
  "language_info": {
   "codemirror_mode": {
    "name": "ipython",
    "version": 3
   },
   "file_extension": ".py",
   "mimetype": "text/x-python",
   "name": "python",
   "nbconvert_exporter": "python",
   "pygments_lexer": "ipython3",
   "version": "3.6.2"
  }
 },
 "nbformat": 4,
 "nbformat_minor": 2
}
